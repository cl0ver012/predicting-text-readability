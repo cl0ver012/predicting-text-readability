{
 "cells": [
  {
   "cell_type": "markdown",
   "metadata": {},
   "source": [
    "# Machine Learning Models"
   ]
  },
  {
   "cell_type": "code",
   "execution_count": 4,
   "metadata": {},
   "outputs": [
    {
     "name": "stderr",
     "output_type": "stream",
     "text": [
      "/home/rinjac/anaconda3/envs/deep_nlp/lib/python3.7/importlib/_bootstrap.py:219: RuntimeWarning: numpy.ufunc size changed, may indicate binary incompatibility. Expected 216, got 192\n",
      "  return f(*args, **kwds)\n",
      "/home/rinjac/anaconda3/envs/deep_nlp/lib/python3.7/importlib/_bootstrap.py:219: RuntimeWarning: numpy.ufunc size changed, may indicate binary incompatibility. Expected 192 from C header, got 216 from PyObject\n",
      "  return f(*args, **kwds)\n"
     ]
    }
   ],
   "source": [
    "import pandas as pd\n",
    "import numpy as np\n",
    "import matplotlib.pyplot as plt\n",
    "import seaborn as sns\n",
    "\n",
    "from utils.evaluation import get_r, print_metrics"
   ]
  },
  {
   "cell_type": "markdown",
   "metadata": {},
   "source": [
    "Load train and test datasets."
   ]
  },
  {
   "cell_type": "code",
   "execution_count": 5,
   "metadata": {},
   "outputs": [],
   "source": [
    "X_train = pd.read_csv(\"../features/weebit_train_with_features.csv\", index_col=0)\n",
    "X_test = pd.read_csv(\"../features/weebit_test_with_features.csv\", index_col=0)\n",
    "\n",
    "# get Y\n",
    "y_train = X_train[\"Level\"]\n",
    "y_test = X_test[\"Level\"]\n",
    "\n",
    "# remove Y and Text columns \n",
    "X_train.drop(columns=['Text', 'Level'], inplace=True)\n",
    "X_test.drop(columns=['Text', 'Level'], inplace=True)"
   ]
  },
  {
   "cell_type": "markdown",
   "metadata": {},
   "source": [
    "## 1. Linear Regression"
   ]
  },
  {
   "cell_type": "code",
   "execution_count": 33,
   "metadata": {},
   "outputs": [],
   "source": [
    "from sklearn.linear_model import Ridge"
   ]
  },
  {
   "cell_type": "code",
   "execution_count": 36,
   "metadata": {},
   "outputs": [
    {
     "name": "stdout",
     "output_type": "stream",
     "text": [
      "R^2 = 0.5189337005930125\n",
      "R = 0.7203705300697777\n",
      "Pearson's correlation coef: 0.7252042670577996\n"
     ]
    }
   ],
   "source": [
    "lin_reg = Ridge(alpha=0.1)\n",
    "\n",
    "lin_reg.fit(X_train, y_train)\n",
    "y_pred = lin_reg.predict(X_test)\n",
    "\n",
    "print_metrics(y_test, y_pred)"
   ]
  },
  {
   "cell_type": "markdown",
   "metadata": {},
   "source": [
    "## 2. Random Forest Classifier"
   ]
  },
  {
   "cell_type": "code",
   "execution_count": 16,
   "metadata": {},
   "outputs": [],
   "source": [
    "from sklearn.ensemble import RandomForestClassifier"
   ]
  },
  {
   "cell_type": "code",
   "execution_count": 26,
   "metadata": {},
   "outputs": [],
   "source": [
    "rfc = RandomForestClassifier(max_depth=20, n_estimators=100)"
   ]
  },
  {
   "cell_type": "code",
   "execution_count": 27,
   "metadata": {},
   "outputs": [],
   "source": [
    "rfc.fit(X_train, y_train)\n",
    "y_pred = rfc.predict(X_test)"
   ]
  },
  {
   "cell_type": "code",
   "execution_count": 43,
   "metadata": {},
   "outputs": [
    {
     "name": "stdout",
     "output_type": "stream",
     "text": [
      "Confusion matrix:\n",
      "[[ 80  31   5   4   2]\n",
      " [ 17 112  18   5   6]\n",
      " [  3  27 114   3  13]\n",
      " [  5   7   6  82  28]\n",
      " [  2   7  10  27 114]]\n",
      "==============\n",
      "Accuracy: 0.6895604395604396\n",
      "F1(micro)0.6895604395604396\n",
      "F1(macro)0.6893224224903831\n",
      "==============\n",
      "R^2 = 0.5811758475813705\n",
      "R = 0.7623489014758076\n",
      "Pearson's correlation coef: 0.7884321525669032\n"
     ]
    }
   ],
   "source": [
    "print_metrics(y_test, y_pred, classification=True)"
   ]
  },
  {
   "cell_type": "markdown",
   "metadata": {},
   "source": [
    "## 3. XGBoost Classifier"
   ]
  },
  {
   "cell_type": "code",
   "execution_count": 6,
   "metadata": {},
   "outputs": [],
   "source": [
    "from xgboost import XGBClassifier"
   ]
  },
  {
   "cell_type": "code",
   "execution_count": 40,
   "metadata": {},
   "outputs": [],
   "source": [
    "xgboost = XGBClassifier(max_depth=30, n_estimators=200, learning_rate=0.1)"
   ]
  },
  {
   "cell_type": "code",
   "execution_count": 41,
   "metadata": {},
   "outputs": [],
   "source": [
    "xgboost.fit(X_train, y_train)\n",
    "y_pred = xgboost.predict(X_test)"
   ]
  },
  {
   "cell_type": "code",
   "execution_count": 42,
   "metadata": {},
   "outputs": [
    {
     "name": "stdout",
     "output_type": "stream",
     "text": [
      "R^2 = 0.5811758475813705\n",
      "R = 0.7623489014758076\n",
      "Pearson's correlation coef: 0.7884321525669032\n"
     ]
    }
   ],
   "source": [
    "print_metrics(y_test, y_pred)"
   ]
  },
  {
   "cell_type": "markdown",
   "metadata": {},
   "source": [
    "## 4. Support Vector Classifier"
   ]
  },
  {
   "cell_type": "code",
   "execution_count": 6,
   "metadata": {},
   "outputs": [],
   "source": [
    "from sklearn.svm import SVC\n",
    "from utils.hyperparameter_optimization import find_best_C_for_SVC"
   ]
  },
  {
   "cell_type": "markdown",
   "metadata": {},
   "source": [
    "Perform hyperparameter optimization to find best C."
   ]
  },
  {
   "cell_type": "code",
   "execution_count": 7,
   "metadata": {},
   "outputs": [],
   "source": [
    "kernel = 'linear'\n",
    "Cs = [0.1, 0.3, 0.5, 0.7, 1.0, 1.5, 2.0, 5.0, 10.0, 50.0]\n",
    "bestC = find_best_C_for_SVC(X_train, y_train, kernel, Cs)"
   ]
  },
  {
   "cell_type": "markdown",
   "metadata": {},
   "source": [
    "Train and evaluate the model."
   ]
  },
  {
   "cell_type": "code",
   "execution_count": 9,
   "metadata": {},
   "outputs": [
    {
     "name": "stdout",
     "output_type": "stream",
     "text": [
      "R^2 = 0.5634590898648464\n",
      "R = 0.750639120926192\n",
      "Pearson's correlation coef: 0.7810546559623373\n"
     ]
    }
   ],
   "source": [
    "svc = SVC(kernel=kernel, C=bestC)\n",
    "svc.fit(X_train, y_train)\n",
    "y_pred = svc.predict(X_test)\n",
    "    \n",
    "print_metrics(y_test, y_pred, classification=True)"
   ]
  },
  {
   "cell_type": "markdown",
   "metadata": {},
   "source": [
    "## 5. Simple Feedforward Network"
   ]
  },
  {
   "cell_type": "code",
   "execution_count": 101,
   "metadata": {},
   "outputs": [],
   "source": [
    "from keras.models import Sequential\n",
    "from keras.layers import Dense, Dropout\n",
    "from keras.utils import to_categorical"
   ]
  },
  {
   "cell_type": "code",
   "execution_count": 159,
   "metadata": {},
   "outputs": [],
   "source": [
    "model = Sequential()\n",
    "model.add(Dense(64, activation='relu', input_dim=X_train.shape[1]))\n",
    "model.add(Dropout(0.2))\n",
    "model.add(Dense(32, activation='relu', input_dim=X_train.shape[1]))\n",
    "model.add(Dropout(0.2))\n",
    "model.add(Dense(5, activation='softmax'))\n",
    "model.compile(optimizer='adam',\n",
    "              loss='categorical_crossentropy',\n",
    "              metrics=['accuracy'])"
   ]
  },
  {
   "cell_type": "code",
   "execution_count": 160,
   "metadata": {},
   "outputs": [],
   "source": [
    "y_train_cat = to_categorical(y_train, num_classes=5)\n",
    "y_test_cat = to_categorical(y_test, num_classes=5)"
   ]
  },
  {
   "cell_type": "code",
   "execution_count": 161,
   "metadata": {},
   "outputs": [
    {
     "name": "stdout",
     "output_type": "stream",
     "text": [
      "Epoch 1/150\n",
      "2911/2911 [==============================] - 2s 637us/step - loss: 1.9691 - acc: 0.2219\n",
      "Epoch 2/150\n",
      "2911/2911 [==============================] - 0s 62us/step - loss: 1.6057 - acc: 0.2360\n",
      "Epoch 3/150\n",
      "2911/2911 [==============================] - 0s 70us/step - loss: 1.5711 - acc: 0.2597\n",
      "Epoch 4/150\n",
      "2911/2911 [==============================] - 0s 73us/step - loss: 1.5581 - acc: 0.2772\n",
      "Epoch 5/150\n",
      "2911/2911 [==============================] - 0s 63us/step - loss: 1.5311 - acc: 0.2906\n",
      "Epoch 6/150\n",
      "2911/2911 [==============================] - 0s 65us/step - loss: 1.5187 - acc: 0.3057\n",
      "Epoch 7/150\n",
      "2911/2911 [==============================] - 0s 69us/step - loss: 1.5006 - acc: 0.3147\n",
      "Epoch 8/150\n",
      "2911/2911 [==============================] - 0s 70us/step - loss: 1.4788 - acc: 0.3136\n",
      "Epoch 9/150\n",
      "2911/2911 [==============================] - 0s 91us/step - loss: 1.4741 - acc: 0.3473\n",
      "Epoch 10/150\n",
      "2911/2911 [==============================] - 0s 93us/step - loss: 1.4544 - acc: 0.3456\n",
      "Epoch 11/150\n",
      "2911/2911 [==============================] - 0s 96us/step - loss: 1.4411 - acc: 0.3535\n",
      "Epoch 12/150\n",
      "2911/2911 [==============================] - 0s 69us/step - loss: 1.4314 - acc: 0.3683\n",
      "Epoch 13/150\n",
      "2911/2911 [==============================] - 0s 69us/step - loss: 1.4175 - acc: 0.3738\n",
      "Epoch 14/150\n",
      "2911/2911 [==============================] - 0s 73us/step - loss: 1.4059 - acc: 0.3847\n",
      "Epoch 15/150\n",
      "2911/2911 [==============================] - 0s 88us/step - loss: 1.3916 - acc: 0.3892\n",
      "Epoch 16/150\n",
      "2911/2911 [==============================] - 0s 86us/step - loss: 1.3883 - acc: 0.4095\n",
      "Epoch 17/150\n",
      "2911/2911 [==============================] - 0s 74us/step - loss: 1.3583 - acc: 0.4109\n",
      "Epoch 18/150\n",
      "2911/2911 [==============================] - 0s 76us/step - loss: 1.3536 - acc: 0.4318\n",
      "Epoch 19/150\n",
      "2911/2911 [==============================] - 0s 74us/step - loss: 1.3314 - acc: 0.4287\n",
      "Epoch 20/150\n",
      "2911/2911 [==============================] - 0s 83us/step - loss: 1.3068 - acc: 0.4538\n",
      "Epoch 21/150\n",
      "2911/2911 [==============================] - 0s 72us/step - loss: 1.2884 - acc: 0.4596\n",
      "Epoch 22/150\n",
      "2911/2911 [==============================] - 0s 74us/step - loss: 1.2746 - acc: 0.4717\n",
      "Epoch 23/150\n",
      "2911/2911 [==============================] - 0s 105us/step - loss: 1.2481 - acc: 0.4892\n",
      "Epoch 24/150\n",
      "2911/2911 [==============================] - 0s 76us/step - loss: 1.2332 - acc: 0.4888\n",
      "Epoch 25/150\n",
      "2911/2911 [==============================] - 0s 79us/step - loss: 1.2154 - acc: 0.4998\n",
      "Epoch 26/150\n",
      "2911/2911 [==============================] - 0s 79us/step - loss: 1.2195 - acc: 0.4923\n",
      "Epoch 27/150\n",
      "2911/2911 [==============================] - 0s 80us/step - loss: 1.1911 - acc: 0.5153\n",
      "Epoch 28/150\n",
      "2911/2911 [==============================] - 0s 93us/step - loss: 1.1957 - acc: 0.5091\n",
      "Epoch 29/150\n",
      "2911/2911 [==============================] - 0s 112us/step - loss: 1.1787 - acc: 0.5088\n",
      "Epoch 30/150\n",
      "2911/2911 [==============================] - 0s 105us/step - loss: 1.1533 - acc: 0.5270\n",
      "Epoch 31/150\n",
      "2911/2911 [==============================] - 0s 86us/step - loss: 1.1587 - acc: 0.5290\n",
      "Epoch 32/150\n",
      "2911/2911 [==============================] - 0s 72us/step - loss: 1.1552 - acc: 0.5180\n",
      "Epoch 33/150\n",
      "2911/2911 [==============================] - 0s 73us/step - loss: 1.1493 - acc: 0.5297\n",
      "Epoch 34/150\n",
      "2911/2911 [==============================] - 0s 72us/step - loss: 1.1416 - acc: 0.5438\n",
      "Epoch 35/150\n",
      "2911/2911 [==============================] - 0s 82us/step - loss: 1.1363 - acc: 0.5314\n",
      "Epoch 36/150\n",
      "2911/2911 [==============================] - 0s 73us/step - loss: 1.1157 - acc: 0.5500\n",
      "Epoch 37/150\n",
      "2911/2911 [==============================] - 0s 78us/step - loss: 1.1224 - acc: 0.5366\n",
      "Epoch 38/150\n",
      "2911/2911 [==============================] - 0s 86us/step - loss: 1.1052 - acc: 0.5438\n",
      "Epoch 39/150\n",
      "2911/2911 [==============================] - 0s 94us/step - loss: 1.0986 - acc: 0.5534\n",
      "Epoch 40/150\n",
      "2911/2911 [==============================] - 0s 72us/step - loss: 1.1011 - acc: 0.5459\n",
      "Epoch 41/150\n",
      "2911/2911 [==============================] - 0s 80us/step - loss: 1.0873 - acc: 0.5682\n",
      "Epoch 42/150\n",
      "2911/2911 [==============================] - 0s 72us/step - loss: 1.0833 - acc: 0.5661\n",
      "Epoch 43/150\n",
      "2911/2911 [==============================] - 0s 83us/step - loss: 1.0836 - acc: 0.5579\n",
      "Epoch 44/150\n",
      "2911/2911 [==============================] - 0s 82us/step - loss: 1.0872 - acc: 0.5572\n",
      "Epoch 45/150\n",
      "2911/2911 [==============================] - 0s 86us/step - loss: 1.0751 - acc: 0.5668\n",
      "Epoch 46/150\n",
      "2911/2911 [==============================] - 0s 83us/step - loss: 1.0701 - acc: 0.5623\n",
      "Epoch 47/150\n",
      "2911/2911 [==============================] - 0s 77us/step - loss: 1.0655 - acc: 0.5775\n",
      "Epoch 48/150\n",
      "2911/2911 [==============================] - 0s 80us/step - loss: 1.0719 - acc: 0.5620\n",
      "Epoch 49/150\n",
      "2911/2911 [==============================] - 0s 104us/step - loss: 1.0543 - acc: 0.5699\n",
      "Epoch 50/150\n",
      "2911/2911 [==============================] - 0s 106us/step - loss: 1.0512 - acc: 0.5740\n",
      "Epoch 51/150\n",
      "2911/2911 [==============================] - 0s 86us/step - loss: 1.0487 - acc: 0.5771\n",
      "Epoch 52/150\n",
      "2911/2911 [==============================] - 0s 71us/step - loss: 1.0661 - acc: 0.5692\n",
      "Epoch 53/150\n",
      "2911/2911 [==============================] - 0s 72us/step - loss: 1.0457 - acc: 0.5857\n",
      "Epoch 54/150\n",
      "2911/2911 [==============================] - 0s 71us/step - loss: 1.0437 - acc: 0.5782\n",
      "Epoch 55/150\n",
      "2911/2911 [==============================] - 0s 74us/step - loss: 1.0563 - acc: 0.5747\n",
      "Epoch 56/150\n",
      "2911/2911 [==============================] - 0s 77us/step - loss: 1.0435 - acc: 0.5678\n",
      "Epoch 57/150\n",
      "2911/2911 [==============================] - 0s 86us/step - loss: 1.0276 - acc: 0.5977\n",
      "Epoch 58/150\n",
      "2911/2911 [==============================] - 0s 73us/step - loss: 1.0240 - acc: 0.5881\n",
      "Epoch 59/150\n",
      "2911/2911 [==============================] - 0s 76us/step - loss: 1.0412 - acc: 0.5819\n",
      "Epoch 60/150\n",
      "2911/2911 [==============================] - 0s 77us/step - loss: 1.0290 - acc: 0.5867\n",
      "Epoch 61/150\n",
      "2911/2911 [==============================] - 0s 72us/step - loss: 1.0280 - acc: 0.5919\n",
      "Epoch 62/150\n",
      "2911/2911 [==============================] - 0s 95us/step - loss: 1.0214 - acc: 0.5878\n",
      "Epoch 63/150\n",
      "2911/2911 [==============================] - 0s 90us/step - loss: 1.0233 - acc: 0.5922\n",
      "Epoch 64/150\n",
      "2911/2911 [==============================] - 0s 83us/step - loss: 1.0339 - acc: 0.5915\n",
      "Epoch 65/150\n",
      "2911/2911 [==============================] - 0s 76us/step - loss: 1.0127 - acc: 0.5919\n",
      "Epoch 66/150\n",
      "2911/2911 [==============================] - 0s 93us/step - loss: 1.0259 - acc: 0.6036\n",
      "Epoch 67/150\n",
      "2911/2911 [==============================] - 0s 88us/step - loss: 1.0094 - acc: 0.5995\n",
      "Epoch 68/150\n",
      "2911/2911 [==============================] - 0s 74us/step - loss: 1.0132 - acc: 0.6070\n",
      "Epoch 69/150\n",
      "2911/2911 [==============================] - 0s 87us/step - loss: 0.9964 - acc: 0.6098\n",
      "Epoch 70/150\n",
      "2911/2911 [==============================] - 0s 96us/step - loss: 0.9924 - acc: 0.6080\n",
      "Epoch 71/150\n",
      "2911/2911 [==============================] - 0s 68us/step - loss: 0.9823 - acc: 0.6039\n",
      "Epoch 72/150\n",
      "2911/2911 [==============================] - 0s 87us/step - loss: 1.0205 - acc: 0.5885\n",
      "Epoch 73/150\n",
      "2911/2911 [==============================] - 0s 87us/step - loss: 0.9865 - acc: 0.6022\n",
      "Epoch 74/150\n",
      "2911/2911 [==============================] - 0s 79us/step - loss: 1.0101 - acc: 0.5885\n",
      "Epoch 75/150\n",
      "2911/2911 [==============================] - 0s 84us/step - loss: 0.9963 - acc: 0.6015\n",
      "Epoch 76/150\n",
      "2911/2911 [==============================] - 0s 93us/step - loss: 0.9953 - acc: 0.6056\n",
      "Epoch 77/150\n",
      "2911/2911 [==============================] - 0s 79us/step - loss: 0.9881 - acc: 0.6067\n",
      "Epoch 78/150\n",
      "2911/2911 [==============================] - 0s 84us/step - loss: 0.9837 - acc: 0.6067\n",
      "Epoch 79/150\n",
      "2911/2911 [==============================] - 0s 86us/step - loss: 0.9704 - acc: 0.6043\n",
      "Epoch 80/150\n",
      "2911/2911 [==============================] - 0s 78us/step - loss: 0.9917 - acc: 0.6074\n",
      "Epoch 81/150\n",
      "2911/2911 [==============================] - 0s 89us/step - loss: 0.9680 - acc: 0.6091\n",
      "Epoch 82/150\n",
      "2911/2911 [==============================] - 0s 90us/step - loss: 0.9764 - acc: 0.6122\n",
      "Epoch 83/150\n",
      "2911/2911 [==============================] - 0s 81us/step - loss: 0.9600 - acc: 0.6225\n",
      "Epoch 84/150\n",
      "2911/2911 [==============================] - 0s 91us/step - loss: 0.9702 - acc: 0.5991\n",
      "Epoch 85/150\n",
      "2911/2911 [==============================] - 0s 89us/step - loss: 0.9605 - acc: 0.6108\n",
      "Epoch 86/150\n",
      "2911/2911 [==============================] - 0s 83us/step - loss: 0.9665 - acc: 0.6098\n",
      "Epoch 87/150\n",
      "2911/2911 [==============================] - 0s 108us/step - loss: 0.9607 - acc: 0.6139\n",
      "Epoch 88/150\n",
      "2911/2911 [==============================] - 0s 111us/step - loss: 0.9627 - acc: 0.6149\n",
      "Epoch 89/150\n",
      "2911/2911 [==============================] - 0s 64us/step - loss: 0.9457 - acc: 0.6259\n",
      "Epoch 90/150\n",
      "2911/2911 [==============================] - 0s 99us/step - loss: 0.9619 - acc: 0.6242\n",
      "Epoch 91/150\n",
      "2911/2911 [==============================] - 0s 86us/step - loss: 0.9582 - acc: 0.6249\n",
      "Epoch 92/150\n",
      "2911/2911 [==============================] - 0s 89us/step - loss: 0.9589 - acc: 0.6173\n",
      "Epoch 93/150\n",
      "2911/2911 [==============================] - 0s 81us/step - loss: 0.9505 - acc: 0.6132\n",
      "Epoch 94/150\n",
      "2911/2911 [==============================] - 0s 90us/step - loss: 0.9573 - acc: 0.6091\n",
      "Epoch 95/150\n",
      "2911/2911 [==============================] - 0s 102us/step - loss: 0.9557 - acc: 0.6256\n",
      "Epoch 96/150\n",
      "2911/2911 [==============================] - 0s 89us/step - loss: 0.9658 - acc: 0.6187\n",
      "Epoch 97/150\n",
      "2911/2911 [==============================] - 0s 98us/step - loss: 0.9437 - acc: 0.6214\n",
      "Epoch 98/150\n",
      "2911/2911 [==============================] - 0s 93us/step - loss: 0.9392 - acc: 0.6335\n",
      "Epoch 99/150\n",
      "2911/2911 [==============================] - 0s 80us/step - loss: 0.9415 - acc: 0.6341\n",
      "Epoch 100/150\n",
      "2911/2911 [==============================] - 0s 82us/step - loss: 0.9343 - acc: 0.6331\n",
      "Epoch 101/150\n",
      "2911/2911 [==============================] - 0s 77us/step - loss: 0.9420 - acc: 0.6280\n",
      "Epoch 102/150\n",
      "2911/2911 [==============================] - 0s 74us/step - loss: 0.9402 - acc: 0.6242\n",
      "Epoch 103/150\n",
      "2911/2911 [==============================] - 0s 89us/step - loss: 0.9313 - acc: 0.6238\n",
      "Epoch 104/150\n",
      "2911/2911 [==============================] - 0s 89us/step - loss: 0.9462 - acc: 0.6153\n",
      "Epoch 105/150\n",
      "2911/2911 [==============================] - 0s 103us/step - loss: 0.9340 - acc: 0.6201\n",
      "Epoch 106/150\n",
      "2911/2911 [==============================] - 0s 77us/step - loss: 0.9298 - acc: 0.6300\n",
      "Epoch 107/150\n",
      "2911/2911 [==============================] - 0s 74us/step - loss: 0.9322 - acc: 0.6262\n",
      "Epoch 108/150\n",
      "2911/2911 [==============================] - 0s 82us/step - loss: 0.9281 - acc: 0.6341\n",
      "Epoch 109/150\n",
      "2911/2911 [==============================] - 0s 88us/step - loss: 0.9157 - acc: 0.6359\n",
      "Epoch 110/150\n",
      "2911/2911 [==============================] - 0s 92us/step - loss: 0.9332 - acc: 0.6276\n",
      "Epoch 111/150\n",
      "2911/2911 [==============================] - 0s 90us/step - loss: 0.9404 - acc: 0.6314\n",
      "Epoch 112/150\n",
      "2911/2911 [==============================] - 0s 83us/step - loss: 0.9163 - acc: 0.6372\n",
      "Epoch 113/150\n",
      "2911/2911 [==============================] - 0s 82us/step - loss: 0.9228 - acc: 0.6280\n",
      "Epoch 114/150\n",
      "2911/2911 [==============================] - 0s 86us/step - loss: 0.9206 - acc: 0.6366\n",
      "Epoch 115/150\n",
      "2911/2911 [==============================] - 0s 88us/step - loss: 0.9170 - acc: 0.6293\n",
      "Epoch 116/150\n",
      "2911/2911 [==============================] - 0s 81us/step - loss: 0.9177 - acc: 0.6259\n",
      "Epoch 117/150\n",
      "2911/2911 [==============================] - 0s 85us/step - loss: 0.9296 - acc: 0.6341\n",
      "Epoch 118/150\n",
      "2911/2911 [==============================] - 0s 97us/step - loss: 0.9076 - acc: 0.6462\n",
      "Epoch 119/150\n",
      "2911/2911 [==============================] - 0s 77us/step - loss: 0.9260 - acc: 0.6297\n",
      "Epoch 120/150\n",
      "2911/2911 [==============================] - 0s 72us/step - loss: 0.9198 - acc: 0.6238\n",
      "Epoch 121/150\n",
      "2911/2911 [==============================] - 0s 79us/step - loss: 0.9081 - acc: 0.6424\n",
      "Epoch 122/150\n",
      "2911/2911 [==============================] - 0s 81us/step - loss: 0.9101 - acc: 0.6462\n",
      "Epoch 123/150\n",
      "2911/2911 [==============================] - 0s 90us/step - loss: 0.9125 - acc: 0.6228\n",
      "Epoch 124/150\n",
      "2911/2911 [==============================] - 0s 92us/step - loss: 0.9156 - acc: 0.6317\n",
      "Epoch 125/150\n",
      "2911/2911 [==============================] - 0s 81us/step - loss: 0.9109 - acc: 0.6359\n",
      "Epoch 126/150\n",
      "2911/2911 [==============================] - 0s 95us/step - loss: 0.9171 - acc: 0.6369\n",
      "Epoch 127/150\n",
      "2911/2911 [==============================] - 0s 89us/step - loss: 0.9009 - acc: 0.6379\n",
      "Epoch 128/150\n",
      "2911/2911 [==============================] - 0s 94us/step - loss: 0.9040 - acc: 0.6317\n",
      "Epoch 129/150\n",
      "2911/2911 [==============================] - 0s 95us/step - loss: 0.9115 - acc: 0.6273\n",
      "Epoch 130/150\n",
      "2911/2911 [==============================] - 0s 83us/step - loss: 0.9104 - acc: 0.6383\n",
      "Epoch 131/150\n",
      "2911/2911 [==============================] - 0s 93us/step - loss: 0.9013 - acc: 0.6390\n",
      "Epoch 132/150\n",
      "2911/2911 [==============================] - 0s 90us/step - loss: 0.9121 - acc: 0.6335\n",
      "Epoch 133/150\n",
      "2911/2911 [==============================] - 0s 79us/step - loss: 0.9037 - acc: 0.6427\n",
      "Epoch 134/150\n",
      "2911/2911 [==============================] - 0s 80us/step - loss: 0.8924 - acc: 0.6314\n",
      "Epoch 135/150\n",
      "2911/2911 [==============================] - 0s 79us/step - loss: 0.8841 - acc: 0.6403\n",
      "Epoch 136/150\n",
      "2911/2911 [==============================] - 0s 99us/step - loss: 0.8946 - acc: 0.6379\n",
      "Epoch 137/150\n",
      "2911/2911 [==============================] - 0s 74us/step - loss: 0.8858 - acc: 0.6438\n",
      "Epoch 138/150\n",
      "2911/2911 [==============================] - 0s 82us/step - loss: 0.9032 - acc: 0.6355\n",
      "Epoch 139/150\n",
      "2911/2911 [==============================] - 0s 91us/step - loss: 0.9057 - acc: 0.6393\n",
      "Epoch 140/150\n",
      "2911/2911 [==============================] - 0s 73us/step - loss: 0.9003 - acc: 0.6307\n",
      "Epoch 141/150\n",
      "2911/2911 [==============================] - 0s 81us/step - loss: 0.8766 - acc: 0.6503\n",
      "Epoch 142/150\n",
      "2911/2911 [==============================] - 0s 79us/step - loss: 0.8888 - acc: 0.6438\n",
      "Epoch 143/150\n",
      "2911/2911 [==============================] - 0s 85us/step - loss: 0.8878 - acc: 0.6482\n",
      "Epoch 144/150\n",
      "2911/2911 [==============================] - 0s 74us/step - loss: 0.8886 - acc: 0.6393\n",
      "Epoch 145/150\n",
      "2911/2911 [==============================] - 0s 77us/step - loss: 0.8813 - acc: 0.6479\n",
      "Epoch 146/150\n",
      "2911/2911 [==============================] - 0s 74us/step - loss: 0.9036 - acc: 0.6345\n",
      "Epoch 147/150\n",
      "2911/2911 [==============================] - 0s 81us/step - loss: 0.8853 - acc: 0.6499\n",
      "Epoch 148/150\n",
      "2911/2911 [==============================] - 0s 90us/step - loss: 0.8860 - acc: 0.6506\n",
      "Epoch 149/150\n",
      "2911/2911 [==============================] - 0s 75us/step - loss: 0.8880 - acc: 0.6434\n",
      "Epoch 150/150\n",
      "2911/2911 [==============================] - 0s 76us/step - loss: 0.8739 - acc: 0.6472\n"
     ]
    },
    {
     "data": {
      "text/plain": [
       "<keras.callbacks.History at 0x7f6296c0deb8>"
      ]
     },
     "execution_count": 161,
     "metadata": {},
     "output_type": "execute_result"
    }
   ],
   "source": [
    "model.fit(X_train, y_train_cat,\n",
    "          epochs=150,\n",
    "          batch_size=64,\n",
    "          verbose=1)"
   ]
  },
  {
   "cell_type": "code",
   "execution_count": 162,
   "metadata": {},
   "outputs": [],
   "source": [
    "y_pred_cat = model.predict(X_test)"
   ]
  },
  {
   "cell_type": "code",
   "execution_count": 163,
   "metadata": {},
   "outputs": [],
   "source": [
    "y_pred = np.argmax(y_pred_cat, axis=1)"
   ]
  },
  {
   "cell_type": "code",
   "execution_count": 164,
   "metadata": {},
   "outputs": [
    {
     "name": "stdout",
     "output_type": "stream",
     "text": [
      "Confusion matrix:\n",
      "[[ 75  37   3   6   1]\n",
      " [ 20 115  14   4   5]\n",
      " [  2  33  99   4  22]\n",
      " [  2  10   6  79  31]\n",
      " [  3   2  13  27 115]]\n",
      "==============\n",
      "Accuracy: 0.6634615384615384\n",
      "F1(micro)0.6634615384615384\n",
      "F1(macro)0.6628872300898104\n",
      "==============\n",
      "R^2 = 0.5840105288160145\n",
      "R = 0.7642058157433863\n",
      "Pearson's correlation coef: 0.7924956207300548\n"
     ]
    }
   ],
   "source": [
    "print_metrics(y_test, y_pred, classification=True)"
   ]
  },
  {
   "cell_type": "code",
   "execution_count": null,
   "metadata": {},
   "outputs": [],
   "source": []
  }
 ],
 "metadata": {
  "kernelspec": {
   "display_name": "Python [conda env:deep_nlp]",
   "language": "python",
   "name": "conda-env-deep_nlp-py"
  },
  "language_info": {
   "codemirror_mode": {
    "name": "ipython",
    "version": 3
   },
   "file_extension": ".py",
   "mimetype": "text/x-python",
   "name": "python",
   "nbconvert_exporter": "python",
   "pygments_lexer": "ipython3",
   "version": "3.7.3"
  }
 },
 "nbformat": 4,
 "nbformat_minor": 2
}
