{
 "cells": [
  {
   "cell_type": "markdown",
   "metadata": {},
   "source": [
    "# Machine Learning Models Evaluation"
   ]
  },
  {
   "cell_type": "code",
   "execution_count": 1,
   "metadata": {},
   "outputs": [],
   "source": [
    "import pandas as pd\n",
    "import numpy as np\n",
    "import matplotlib.pyplot as plt\n",
    "import seaborn as sns\n",
    "\n",
    "from utils.evaluation import print_metrics\n",
    "from utils.cross_validation import avg_spearman_over_k_folds"
   ]
  },
  {
   "cell_type": "markdown",
   "metadata": {},
   "source": [
    "Load train and test datasets."
   ]
  },
  {
   "cell_type": "code",
   "execution_count": 2,
   "metadata": {},
   "outputs": [],
   "source": [
    "X_train = pd.read_csv(\"../features/weebit_train_with_features.csv\", index_col=0)\n",
    "X_test = pd.read_csv(\"../features/weebit_test_with_features.csv\", index_col=0)\n",
    "\n",
    "# get Y\n",
    "y_train = X_train[\"Level\"]\n",
    "y_test = X_test[\"Level\"]\n",
    "\n",
    "# remove Y and Text columns \n",
    "X_train.drop(columns=['Text', 'Level'], inplace=True)\n",
    "X_test.drop(columns=['Text', 'Level'], inplace=True)\n",
    "\n",
    "# whole set; used in cross-validation\n",
    "X = pd.concat([X_train, X_test]).reset_index(drop=True)\n",
    "y = pd.concat([y_train, y_test]).reset_index(drop=True)"
   ]
  },
  {
   "cell_type": "markdown",
   "metadata": {},
   "source": [
    "## 1. Random Forest Classifier"
   ]
  },
  {
   "cell_type": "code",
   "execution_count": 3,
   "metadata": {},
   "outputs": [],
   "source": [
    "from models.random_forest import RandomForest"
   ]
  },
  {
   "cell_type": "code",
   "execution_count": 4,
   "metadata": {},
   "outputs": [],
   "source": [
    "rf = RandomForest(save_model=True)\n",
    "\n",
    "rf.fit(X_train, y_train)\n",
    "y_pred = rf.predict(X_test)"
   ]
  },
  {
   "cell_type": "code",
   "execution_count": 5,
   "metadata": {},
   "outputs": [
    {
     "name": "stdout",
     "output_type": "stream",
     "text": [
      "================================================\n",
      "Spearman's correlation coef: 0.756070591196144\n",
      "================================================\n",
      "-----------\n",
      "R^2 = 0.5195215307278667\n",
      "-----------\n",
      "Confusion matrix:\n",
      "[[ 80  28   7   5   2]\n",
      " [ 19 101  24   8   6]\n",
      " [  0  20 119   4  17]\n",
      " [  6   9   6  82  25]\n",
      " [  3   8  14  27 108]]\n",
      "-----------\n",
      "Accuracy: 0.6730769230769231\n",
      "F1(micro)0.6730769230769231\n",
      "F1(macro)0.6730471319212145\n",
      "-----------\n"
     ]
    }
   ],
   "source": [
    "print_metrics(y_test, y_pred, classification=True)"
   ]
  },
  {
   "cell_type": "markdown",
   "metadata": {},
   "source": [
    "Find mean Spearman correlation over k folds."
   ]
  },
  {
   "cell_type": "code",
   "execution_count": 6,
   "metadata": {},
   "outputs": [
    {
     "name": "stdout",
     "output_type": "stream",
     "text": [
      "Fold 1/5\n",
      "Fold 2/5\n",
      "Fold 3/5\n",
      "Fold 4/5\n",
      "Fold 5/5\n",
      "Mean Spearman correlation: 0.7177805825145648\n"
     ]
    }
   ],
   "source": [
    "rf = RandomForest()\n",
    "\n",
    "print(\"Mean Spearman correlation: \" + str(avg_spearman_over_k_folds(X, y, rf, k=5)))"
   ]
  },
  {
   "cell_type": "markdown",
   "metadata": {},
   "source": [
    "## 2. XGBoost Classifier"
   ]
  },
  {
   "cell_type": "code",
   "execution_count": 7,
   "metadata": {},
   "outputs": [],
   "source": [
    "from models.xgboost import XGBoost"
   ]
  },
  {
   "cell_type": "code",
   "execution_count": 8,
   "metadata": {},
   "outputs": [],
   "source": [
    "xgboost = XGBoost(save_model=True)\n",
    "\n",
    "xgboost.fit(X_train, y_train)\n",
    "y_pred = xgboost.predict(X_test)"
   ]
  },
  {
   "cell_type": "code",
   "execution_count": 9,
   "metadata": {},
   "outputs": [
    {
     "name": "stdout",
     "output_type": "stream",
     "text": [
      "================================================\n",
      "Spearman's correlation coef: 0.7890308371249726\n",
      "================================================\n",
      "-----------\n",
      "R^2 = 0.5811758475813705\n",
      "-----------\n",
      "Confusion matrix:\n",
      "[[ 80  31   5   4   2]\n",
      " [ 17 112  18   5   6]\n",
      " [  3  27 114   3  13]\n",
      " [  5   7   6  82  28]\n",
      " [  2   7  10  27 114]]\n",
      "-----------\n",
      "Accuracy: 0.6895604395604396\n",
      "F1(micro)0.6895604395604396\n",
      "F1(macro)0.6893224224903831\n",
      "-----------\n"
     ]
    }
   ],
   "source": [
    "print_metrics(y_test, y_pred, classification=True)"
   ]
  },
  {
   "cell_type": "markdown",
   "metadata": {},
   "source": [
    "Find mean Spearman correlation over k folds."
   ]
  },
  {
   "cell_type": "code",
   "execution_count": 10,
   "metadata": {},
   "outputs": [
    {
     "name": "stdout",
     "output_type": "stream",
     "text": [
      "Fold 1/5\n",
      "Fold 2/5\n",
      "Fold 3/5\n",
      "Fold 4/5\n",
      "Fold 5/5\n",
      "Mean Spearman correlation: 0.7508209121592035\n"
     ]
    }
   ],
   "source": [
    "xgboost = XGBoost()\n",
    "\n",
    "print(\"Mean Spearman correlation: \" + str(avg_spearman_over_k_folds(X, y, xgboost, k=5)))"
   ]
  },
  {
   "cell_type": "markdown",
   "metadata": {},
   "source": [
    "## 3. Support Vector Classifier"
   ]
  },
  {
   "cell_type": "code",
   "execution_count": 11,
   "metadata": {},
   "outputs": [],
   "source": [
    "from models.support_vector_machine import SupportVectorMachine"
   ]
  },
  {
   "cell_type": "code",
   "execution_count": 12,
   "metadata": {},
   "outputs": [],
   "source": [
    "svm = SupportVectorMachine(save_model=True)\n",
    "\n",
    "svm.fit(X_train, y_train)\n",
    "y_pred = svm.predict(X_test)"
   ]
  },
  {
   "cell_type": "code",
   "execution_count": 13,
   "metadata": {},
   "outputs": [
    {
     "name": "stdout",
     "output_type": "stream",
     "text": [
      "================================================\n",
      "Spearman's correlation coef: 0.7779563580116718\n",
      "================================================\n",
      "-----------\n",
      "R^2 = 0.552120364926271\n",
      "-----------\n",
      "Confusion matrix:\n",
      "[[ 77  36   3   4   2]\n",
      " [ 23 103  21   8   3]\n",
      " [  3  27 101   7  22]\n",
      " [  7   8  10  76  27]\n",
      " [  2   3  15  28 112]]\n",
      "-----------\n",
      "Accuracy: 0.6442307692307693\n",
      "F1(micro)0.6442307692307693\n",
      "F1(macro)0.6434704376279996\n",
      "-----------\n"
     ]
    }
   ],
   "source": [
    "print_metrics(y_test, y_pred, classification=True)"
   ]
  },
  {
   "cell_type": "code",
   "execution_count": 14,
   "metadata": {},
   "outputs": [
    {
     "name": "stdout",
     "output_type": "stream",
     "text": [
      "Fold 1/5\n",
      "Fold 2/5\n",
      "Fold 3/5\n",
      "Fold 4/5\n",
      "Fold 5/5\n",
      "Mean Spearman correlation: 0.7408351660777365\n"
     ]
    }
   ],
   "source": [
    "svm = SupportVectorMachine()\n",
    "\n",
    "print(\"Mean Spearman correlation: \" + str(avg_spearman_over_k_folds(X, y, svm, k=5)))"
   ]
  },
  {
   "cell_type": "markdown",
   "metadata": {},
   "source": [
    "## 4. Multilayer Perceptron"
   ]
  },
  {
   "cell_type": "code",
   "execution_count": 15,
   "metadata": {},
   "outputs": [
    {
     "name": "stderr",
     "output_type": "stream",
     "text": [
      "Using TensorFlow backend.\n"
     ]
    }
   ],
   "source": [
    "from models.multilayer_perceptron import MultilayerPerceptron"
   ]
  },
  {
   "cell_type": "code",
   "execution_count": 16,
   "metadata": {},
   "outputs": [],
   "source": [
    "mlp = MultilayerPerceptron(input_dim=X_train.shape[1], save_model=True, verbose=0)\n",
    "\n",
    "mlp.fit(X_train, y_train)\n",
    "y_pred = mlp.predict(X_test)"
   ]
  },
  {
   "cell_type": "code",
   "execution_count": 17,
   "metadata": {},
   "outputs": [
    {
     "name": "stdout",
     "output_type": "stream",
     "text": [
      "================================================\n",
      "Spearman's correlation coef: 0.7808762832151066\n",
      "================================================\n",
      "-----------\n",
      "R^2 = 0.552829035234932\n",
      "-----------\n",
      "Confusion matrix:\n",
      "[[ 87  27   3   4   1]\n",
      " [ 30 104  17   4   3]\n",
      " [  2  32 101   4  21]\n",
      " [  6   8   9  82  23]\n",
      " [  4   8   9  32 107]]\n",
      "-----------\n",
      "Accuracy: 0.6607142857142857\n",
      "F1(micro)0.6607142857142857\n",
      "F1(macro)0.6622114858221293\n",
      "-----------\n"
     ]
    }
   ],
   "source": [
    "print_metrics(y_test, y_pred, classification=True)"
   ]
  },
  {
   "cell_type": "code",
   "execution_count": 19,
   "metadata": {},
   "outputs": [
    {
     "name": "stdout",
     "output_type": "stream",
     "text": [
      "Fold 1/5\n",
      "Fold 2/5\n",
      "Fold 3/5\n",
      "Fold 4/5\n",
      "Fold 5/5\n",
      "Mean Spearman correlation: 0.7623367972063997\n"
     ]
    }
   ],
   "source": [
    "mlp = MultilayerPerceptron(input_dim=X.shape[1])\n",
    "\n",
    "print(\"Mean Spearman correlation: \" + str(avg_spearman_over_k_folds(X, y, mlp, k=5)))"
   ]
  },
  {
   "cell_type": "code",
   "execution_count": null,
   "metadata": {},
   "outputs": [],
   "source": []
  }
 ],
 "metadata": {
  "kernelspec": {
   "display_name": "Python [conda env:deep_nlp]",
   "language": "python",
   "name": "conda-env-deep_nlp-py"
  },
  "language_info": {
   "codemirror_mode": {
    "name": "ipython",
    "version": 3
   },
   "file_extension": ".py",
   "mimetype": "text/x-python",
   "name": "python",
   "nbconvert_exporter": "python",
   "pygments_lexer": "ipython3",
   "version": "3.7.3"
  }
 },
 "nbformat": 4,
 "nbformat_minor": 2
}
